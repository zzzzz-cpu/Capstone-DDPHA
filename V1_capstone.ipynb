{
 "cells": [
  {
   "cell_type": "code",
   "execution_count": 79,
   "metadata": {},
   "outputs": [],
   "source": [
    "import matplotlib.pyplot as plt\n",
    "import numpy as np\n",
    "import xport\n",
    "import pandas as pd\n",
    "from pandas import DataFrame\n",
    "from sklearn import preprocessing\n",
    "import matplotlib.pyplot as plt \n",
    "plt.rc(\"font\", size=14)\n",
    "from sklearn.linear_model import LogisticRegression\n",
    "from sklearn.model_selection import train_test_split\n",
    "import seaborn as sns\n",
    "sns.set(style=\"white\")\n",
    "sns.set(style=\"whitegrid\", color_codes=True)\n",
    "from fancyimpute import KNN \n",
    "from sklearn.tree import export_graphviz\n",
    "import pydot\n",
    "import sklearn\n",
    "\n",
    "\n",
    "\n"
   ]
  },
  {
   "cell_type": "code",
   "execution_count": 45,
   "metadata": {},
   "outputs": [],
   "source": [
    "data = []\n",
    "with open('DIQ_I1516.XPT', 'rb') as f:\n",
    "    for row in xport.Reader(f):\n",
    "        lst = list(row)\n",
    "        data.append(lst)\n",
    "data = pd.DataFrame(data)\n",
    "export_csv = data.to_csv(r'\\Macintosh HD\\Users\\aparnamohan\\Desktop\\CapstonePython\\Diabetes1516.csv',  header=False) \n",
    " \n",
    "data=[]\n",
    "with open('DEMO_I1516.XPT', 'rb') as g:\n",
    "    for row in xport.Reader(g):\n",
    "        lst = list(row)\n",
    "        data.append(lst)\n",
    "data = pd.DataFrame(data)\n",
    "export_csv = data.to_csv(r'\\Macintosh HD\\Users\\aparnamohan\\Desktop\\CapstonePython\\Demographic1516.csv',  header=False) \n",
    "data = []\n",
    "with open('GLU_I1516.XPT', 'rb') as f:\n",
    "    for row in xport.Reader(f):\n",
    "        lst = list(row)\n",
    "        data.append(lst)\n",
    "data = pd.DataFrame(data)\n",
    "export_csv = data.to_csv(r'\\Macintosh HD\\Users\\aparnamohan\\Desktop\\CapstonePython\\FastingGlucose1516.csv',  header=False) \n",
    "\n",
    "\n",
    "data = []\n",
    "with open('ALQ_I1516.XPT', 'rb') as f:\n",
    "    for row in xport.Reader(f):\n",
    "        lst = list(row)\n",
    "        data.append(lst)\n",
    "data = pd.DataFrame(data)\n",
    "export_csv = data.to_csv(r'\\Macintosh HD\\Users\\aparnamohan\\Desktop\\CapstonePython\\AlcoholUse1516.csv',  header=False)  \n",
    "\n",
    "data = []\n",
    "with open('TRIGLY_I1516.XPT', 'rb') as f:\n",
    "    for row in xport.Reader(f):\n",
    "        lst = list(row)\n",
    "        data.append(lst)\n",
    "data = pd.DataFrame(data)\n",
    "export_csv = data.to_csv(r'\\Macintosh HD\\Users\\aparnamohan\\Desktop\\CapstonePython\\Cholesterol1516.csv',  header=False) \n",
    "\n",
    "data = []\n",
    "with open('BPX_I1516.XPT', 'rb') as f:\n",
    "    for row in xport.Reader(f):\n",
    "        lst = list(row)\n",
    "        data.append(lst)\n",
    "data = pd.DataFrame(data)\n",
    "export_csv = data.to_csv(r'\\Macintosh HD\\Users\\aparnamohan\\Desktop\\CapstonePython\\BloodPressure1516.csv',  header=False) \n",
    "\n",
    "data = []\n",
    "with open('BMX_I1516.XPT', 'rb') as f:\n",
    "    for row in xport.Reader(f):\n",
    "        lst = list(row)\n",
    "        data.append(lst)\n",
    "data = pd.DataFrame(data)\n",
    "export_csv = data.to_csv(r'\\Macintosh HD\\Users\\aparnamohan\\Desktop\\CapstonePython\\BMI1516.csv',  header=False) \n",
    "data = []\n",
    "with open('DSQTOT_I1516.XPT', 'rb') as f:\n",
    "    for row in xport.Reader(f):\n",
    "        lst = list(row)\n",
    "        data.append(lst)\n",
    "data = pd.DataFrame(data)\n",
    "export_csv = data.to_csv(r'\\Macintosh HD\\Users\\aparnamohan\\Desktop\\CapstonePython\\Sugar1516.csv',  header=False) "
   ]
  },
  {
   "cell_type": "code",
   "execution_count": 46,
   "metadata": {},
   "outputs": [],
   "source": [
    "df = pd.DataFrame()\n",
    "glu = pd.read_csv('FastingGlucose1516.csv', header = None, names=[\"0\",\"patientnum\", \"2\", \"3\",\"fasting_glucose\"] )\n",
    "glu = pd.DataFrame(glu)\n",
    "bp = pd.read_csv('BloodPressure1516.csv', header = None, names=[\"10\",\"patientnum\", \"11\", \"12\", \"13\", \"14\", \"15\",\"16\", \"17\", \"18\", \"sysBP1\", \"diaBP1\", \"21\", \"sysBP2\", \"diaBP2\", \"24\", \"sysBP3\", \"diaBP3\", \"27\", \"28\", \"29\", \"30\", \"31\", \"32\", \"33\", \"34\", \"35\", \"36\"] )\n",
    "bp = pd.DataFrame(bp)\n",
    "bmi = pd.read_csv('BMI1516.csv', header = None, names=[\"0\",\"patientnum\",\"2\", \"3\", \"4\", \"5\",\"6\", \"7\", \"8\", \"9\", \"10\", \"BMI\", \"12\",\"13\", \"14\", \"15\",\"16\", \"17\", \"18\", \"19\", \"20\", \"21\", \"22\", \"23\", \"24\",\"25\",\"26\"])\n",
    "bmi = pd.DataFrame(bmi)\n",
    "diaquest = pd.read_csv('Diabetes1516.csv', header = None, names=[\"0\", \"patientnum\",\"diabetes\", \"3\", \"4\", \"5\",\"6\", \"7\", \"8\", \"9\", \"10\", \"11\", \"12\",\"13\", \"14\", \"15\",\"16\", \"17\", \"18\", \"19\", \"20\", \"21\", \"22\", \"23\", \"24\",\"25\", \"26\",\"27\", \"28\", \"29\",\"30\", \"31\", \"32\", \"33\", \"34\", \"35\", \"36\",\"37\", \"38\", \"39\",\"40\", \"41\", \"42\", \"43\", \"44\", \"45\", \"46\",\"47\", \"48\", \"49\",\"50\", \"51\",\"52\",\"53\",\"54\"])\n",
    "diaquest = pd.DataFrame(diaquest)\n",
    "demogender = pd.read_csv('Demographic1516.csv', header = None, names=[\"0\",\"patientnum\",\"2\", \"3\", \"gender\", \"5\",\"6\", \"7\", \"8\", \"9\", \"10\", \"11\", \"12\",\"13\", \"14\", \"15\",\"16\", \"17\", \"18\", \"19\", \"20\", \"21\", \"22\", \"23\", \"24\", \"25\", \"26\", \"27\", \"28\", \"29\", \"30\", \"31\", \"32\", \"33\", \"34\", \"35\", \"36\", \"37\", \"38\", \"39\", \"40\", \"41\", \"42\", \"43\",\"44\",\"45\",\"46\",\"47\"])\n",
    "demogender = pd.DataFrame(demogender)\n",
    "ldl = pd.read_csv('Cholesterol1516.csv', header = None,index_col = '0', names=[\"0\",\"patientnum\",\"2\", \"3\", \"4\", \"LDL\",\"6\"])\n",
    "ldl = pd.DataFrame(ldl)\n",
    "alcohol = pd.read_csv('AlcoholUse1516.csv', header = None, names=[\"0\",\"patientnum\",\"12drinksayear\", \"3\", \"4\", \"5\",\"6\", \"7\", \"8\", \"5drinksaday\", \"5drinks2hours\"])\n",
    "alcohol = pd.DataFrame(alcohol)\n",
    "demoage = pd.read_csv('Demographic1516.csv', header = None, names=[\"0\",\"patientnum\",\"2\", \"3\", \"4\", \"age\",\"6\", \"7\", \"8\", \"9\", \"10\", \"11\", \"12\",\"13\", \"14\", \"15\",\"16\", \"17\", \"18\", \"19\", \"20\", \"21\", \"22\", \"23\", \"24\", \"25\", \"26\", \"27\", \"28\", \"29\", \"30\", \"31\", \"32\", \"33\", \"34\", \"35\", \"36\", \"37\", \"38\", \"39\", \"40\", \"41\", \"42\", \"43\",\"44\",\"45\",\"46\",\"47\"])\n",
    "demoage = pd.DataFrame(demoage)\n",
    "demorace = pd.read_csv('Demographic1516.csv', header = None, names=[\"0\",\"patientnum\",\"2\", \"3\", \"4\", \"5\",\"6\", \"7\", \"race\", \"9\", \"10\", \"11\", \"12\",\"13\", \"14\", \"15\",\"16\", \"17\", \"18\", \"19\", \"20\", \"21\", \"22\", \"23\", \"24\", \"25\", \"26\", \"27\", \"28\", \"29\", \"30\", \"31\", \"32\", \"33\", \"34\", \"35\", \"36\", \"37\", \"38\", \"39\", \"40\", \"41\", \"42\", \"43\",\"44\",\"45\",\"46\",\"47\"])\n",
    "demorace = pd.DataFrame(demorace)\n",
    "sleepinghrs = pd.read_csv('SleepDisorder1516.csv', header = None, names=[\"0\",\"patientnum\",\"2\", \"3\", \"hours\", \"5\",\"6\", \"7\", \"8\"])\n",
    "sleepinghrs = pd.DataFrame(sleepinghrs)\n",
    "sedentary = pd.read_csv('PhysicalActivity1516.csv', header = None, names=[\"0\",\"patientnum\",\"2\", \"3\", \"4\", \"5\",\"6\", \"7\", \"8\", \"9\", \"10\", \"11\", \"12\",\"13\", \"14\", \"15\",\"16\", \"se\", \"18\", \"19\", \"20\", \"21\", \"22\", \"23\", \"24\", \"25\", \"26\", \"27\", \"28\", \"29\", \"30\", \"31\", \"32\", \"33\", \"34\", \"35\", \"36\", \"37\", \"38\", \"39\",\"40\", \"41\", \"42\", \"43\", \"44\", \"45\", \"46\", \"47\", \"48\", \"49\",\"50\", \"51\", \"52\", \"53\", \"54\", \"55\", \"56\", \"57\", \"58\", \"59\",\"60\", \"61\", \"62\", \"63\", \"64\", \"65\", \"66\", \"67\", \"68\", \"69\",\"70\", \"71\", \"72\", \"73\", \"74\", \"75\", \"76\", \"77\", \"78\", \"79\",\"80\", \"81\", \"82\", \"83\", \"84\", \"85\", \"86\", \"87\", \"88\", \"89\",\"90\", \"91\", \"92\", \"93\", \"94\"])\n",
    "sedentary = pd.DataFrame(sedentary)   \n",
    "sugar = pd.read_csv('Sugar1516.csv', header = None, names=[\"0\",\"patientnum\",\"2\", \"3\", \"4\", \"5\",\"6\", \"7\", \"8\", \"sugar\", \"10\", \"11\", \"12\",\"13\", \"14\", \"15\",\"16\", \"17\", \"18\", \"19\", \"20\", \"21\", \"22\", \"23\", \"24\", \"25\", \"26\", \"27\", \"28\", \"29\", \"30\", \"31\", \"32\", \"33\", \"34\", \"35\", \"36\", \"37\", \"38\", \"39\", \"40\", \"41\", \"42\", \"43\",\"44\",\"45\",\"46\",\"47\"])\n",
    "sugar = pd.DataFrame(sugar)"
   ]
  },
  {
   "cell_type": "code",
   "execution_count": 47,
   "metadata": {},
   "outputs": [],
   "source": [
    "joint = pd.merge(glu, bp, how=\"inner\", on = \"patientnum\")\n",
    "joint = pd.merge(joint, bmi, how = \"inner\", on =\"patientnum\")\n",
    "joint = pd.merge(joint,diaquest, how = 'inner', on = \"patientnum\")\n",
    "joint = pd.merge(joint,demogender, how = 'inner', on = \"patientnum\")\n",
    "joint = pd.merge(joint,ldl, how = 'inner', on = \"patientnum\")\n",
    "joint = pd.merge(joint,alcohol, how = 'inner', on = \"patientnum\")\n",
    "joint = pd.merge(joint,demoage, how = 'inner', on = \"patientnum\")\n",
    "joint = pd.merge(joint,demorace, how = 'inner', on = \"patientnum\")\n",
    "joint = pd.merge(joint,sleepinghrs, how = 'inner', on = \"patientnum\")\n",
    "joint = pd.merge(joint,sedentary, how = 'inner', on = \"patientnum\")\n",
    "joint = pd.merge(joint,sugar, how = 'inner', on = \"patientnum\")\n",
    "joint = pd.DataFrame(joint)"
   ]
  },
  {
   "cell_type": "code",
   "execution_count": 48,
   "metadata": {},
   "outputs": [],
   "source": [
    "df1 = pd.DataFrame(joint[\"patientnum\"])\n",
    "df2 = pd.DataFrame(joint[\"sysBP1\"])\n",
    "df3 = pd.DataFrame(joint[\"diaBP1\"])\n",
    "df4 = pd.DataFrame(joint[\"sysBP2\"])\n",
    "df5 = pd.DataFrame(joint[\"diaBP2\"])\n",
    "df6 = pd.DataFrame(joint[\"sysBP3\"])\n",
    "df7 = pd.DataFrame(joint[\"diaBP3\"])\n",
    "df8 = pd.DataFrame(joint[\"BMI\"])\n",
    "df9 = pd.DataFrame(joint[\"fasting_glucose\"])\n",
    "df10 = pd.DataFrame(joint[\"diabetes\"])\n",
    "df11 = pd.DataFrame(joint[\"gender\"])\n",
    "df12 = pd.DataFrame(joint[\"LDL\"])\n",
    "df13 = pd.DataFrame(joint[\"12drinksayear\"])\n",
    "df14 = pd.DataFrame(joint[\"5drinksaday\"])\n",
    "df15 = pd.DataFrame(joint[\"5drinks2hours\"])\n",
    "df16 = pd.DataFrame(joint[\"age\"])\n",
    "df17 = pd.DataFrame(joint[\"race\"])\n",
    "#df18 = pd.DataFrame(joint[\"hours\"])\n",
    "#df19 = pd.DataFrame(joint[\"se\"])\n",
    "df20 = pd.DataFrame(joint[\"sugar\"])\n",
    "df1516 = pd.concat([df1,df10,df2,df3,df4,df5,df6,df7,df8,df9,df11,df12,df13,df14,df15,df16,df17,df20], axis=1)"
   ]
  },
  {
   "cell_type": "code",
   "execution_count": 49,
   "metadata": {},
   "outputs": [
    {
     "name": "stdout",
     "output_type": "stream",
     "text": [
      "      patientnum  diabetes   BMI  fasting_glucose  gender    LDL  \\\n",
      "0        83733.0       0.0  30.8             5.59     1.0  173.0   \n",
      "1        83734.0       1.0  28.8             4.66     1.0  145.0   \n",
      "2        83736.0       0.0  20.3             4.66     2.0  142.0   \n",
      "3        83737.0       0.0  28.6             5.93     2.0  103.0   \n",
      "4        83741.0       0.0  28.0             5.27     1.0  102.0   \n",
      "...          ...       ...   ...              ...     ...    ...   \n",
      "2724     93682.0       0.0  20.9             6.83     2.0    NaN   \n",
      "2725     93689.0       1.0  28.1             6.00     2.0   73.0   \n",
      "2726     93695.0       0.0  21.5             5.83     2.0   56.0   \n",
      "2727     93696.0       0.0  33.8              NaN     1.0    NaN   \n",
      "2728     93697.0       0.0  31.0             5.50     2.0  127.0   \n",
      "\n",
      "      12drinksayear  5drinksaday  5drinks2hours   age  race  sugar  \\\n",
      "0               1.0          1.0            0.0  53.0   3.0    NaN   \n",
      "1               1.0          1.0            NaN  78.0   3.0    NaN   \n",
      "2               2.0          2.0            NaN  42.0   4.0    NaN   \n",
      "3               2.0          NaN            NaN  72.0   1.0    NaN   \n",
      "4               1.0          1.0            2.0  22.0   4.0    NaN   \n",
      "...             ...          ...            ...   ...   ...    ...   \n",
      "2724            NaN          NaN            NaN  41.0   6.0    NaN   \n",
      "2725            2.0          2.0            NaN  69.0   1.0    NaN   \n",
      "2726            2.0          NaN            NaN  76.0   3.0    NaN   \n",
      "2727            2.0          NaN            NaN  26.0   3.0    NaN   \n",
      "2728            1.0          2.0            NaN  80.0   3.0    NaN   \n",
      "\n",
      "        avrsysBP   avrdiaBP  \n",
      "0     140.000000  86.000000  \n",
      "1     135.333333  45.333333  \n",
      "2     104.000000  60.000000  \n",
      "3     119.333333  58.666667  \n",
      "4     111.333333  72.666667  \n",
      "...          ...        ...  \n",
      "2724  126.000000  81.333333  \n",
      "2725  164.000000  66.000000  \n",
      "2726  111.333333  47.333333  \n",
      "2727  116.000000  72.000000  \n",
      "2728  148.000000  55.333333  \n",
      "\n",
      "[2663 rows x 14 columns]\n"
     ]
    }
   ],
   "source": [
    "\n",
    "#df1516[\"sleep\"]=24-df1516[\"hours\"]-df1516[\"se\"]/60\n",
    "df1516[\"avrsysBP\"]=(df1516[ \"sysBP1\"]+df1516[ \"sysBP2\"]+df1516[ \"sysBP3\"])/3\n",
    "df1516[\"avrdiaBP\"]=(df1516[ \"diaBP1\"]+df1516[ \"diaBP2\"]+df1516[ \"diaBP3\"])/3\n",
    "df1516.loc[df1516['diabetes'] ==2,'diabetes']=0\n",
    "df1516 = df1516[df1516[\"diabetes\"] != 3.0]\n",
    "df1516 = df1516[df1516[\"diabetes\"] != 9.0]\n",
    "df1516.drop(['sysBP1','sysBP2','sysBP3','diaBP1','diaBP2','diaBP3'],axis=1,inplace=True)\n",
    "\n",
    "print(df1516)\n"
   ]
  },
  {
   "cell_type": "code",
   "execution_count": 50,
   "metadata": {},
   "outputs": [],
   "source": [
    "data = []\n",
    "with open('DIQ_H1314.XPT', 'rb') as f:\n",
    "    for row in xport.Reader(f):\n",
    "        lst = list(row)\n",
    "        data.append(lst)\n",
    "data = pd.DataFrame(data)\n",
    "export_csv = data.to_csv(r'\\Macintosh HD\\Users\\aparnamohan\\Desktop\\CapstonePython\\Diabetes1314.csv',  header=False) \n",
    " \n",
    "data=[]\n",
    "with open('DEMO_H1314.XPT', 'rb') as g:\n",
    "    for row in xport.Reader(g):\n",
    "        lst = list(row)\n",
    "        data.append(lst)\n",
    "data = pd.DataFrame(data)\n",
    "export_csv = data.to_csv(r'\\Macintosh HD\\Users\\aparnamohan\\Desktop\\CapstonePython\\Demographic1314.csv',  header=False) \n",
    "data = []\n",
    "with open('GLU_H1314.XPT', 'rb') as f:\n",
    "    for row in xport.Reader(f):\n",
    "        lst = list(row)\n",
    "        data.append(lst)\n",
    "data = pd.DataFrame(data)\n",
    "export_csv = data.to_csv(r'\\Macintosh HD\\Users\\aparnamohan\\Desktop\\CapstonePython\\FastingGlucose1314.csv',  header=False) \n",
    " \n",
    "data = []\n",
    "with open('ALQ_H1314.XPT', 'rb') as f:\n",
    "    for row in xport.Reader(f):\n",
    "        lst = list(row)\n",
    "        data.append(lst)\n",
    "data = pd.DataFrame(data)\n",
    "export_csv = data.to_csv(r'\\Macintosh HD\\Users\\aparnamohan\\Desktop\\CapstonePython\\AlcoholUse1314.csv',  header=False)  \n",
    "\n",
    "data = []\n",
    "with open('TRIGLY_H1314.XPT', 'rb') as f:\n",
    "    for row in xport.Reader(f):\n",
    "        lst = list(row)\n",
    "        data.append(lst)\n",
    "data = pd.DataFrame(data)\n",
    "export_csv = data.to_csv(r'\\Macintosh HD\\Users\\aparnamohan\\Desktop\\CapstonePython\\Cholesterol1314.csv',  header=False) \n",
    "\n",
    "data = []\n",
    "with open('BPX_H1314.XPT', 'rb') as f:\n",
    "    for row in xport.Reader(f):\n",
    "        lst = list(row)\n",
    "        data.append(lst)\n",
    "data = pd.DataFrame(data)\n",
    "export_csv = data.to_csv(r'\\Macintosh HD\\Users\\aparnamohan\\Desktop\\CapstonePython\\BloodPressure1314.csv',  header=False) \n",
    "\n",
    "data = []\n",
    "with open('BMX_H1314.XPT', 'rb') as f:\n",
    "    for row in xport.Reader(f):\n",
    "        lst = list(row)\n",
    "        data.append(lst)\n",
    "data = pd.DataFrame(data)\n",
    "export_csv = data.to_csv(r'\\Macintosh HD\\Users\\aparnamohan\\Desktop\\CapstonePython\\BMI1314.csv',  header=False) \n",
    "data = []\n",
    "with open('DSQTOT_H1314.XPT', 'rb') as f:\n",
    "    for row in xport.Reader(f):\n",
    "        lst = list(row)\n",
    "        data.append(lst)\n",
    "data = pd.DataFrame(data)\n",
    "export_csv = data.to_csv(r'\\Macintosh HD\\Users\\aparnamohan\\Desktop\\CapstonePython\\Sugar1314.csv',  header=False) \n",
    "\n",
    "\n"
   ]
  },
  {
   "cell_type": "code",
   "execution_count": 51,
   "metadata": {},
   "outputs": [
    {
     "name": "stdout",
     "output_type": "stream",
     "text": [
      "           0  patientnum    2    3    4    5   6   7   8  sugar  ...  38  39  \\\n",
      "0          0     73557.0  0.0  0.0  2.0  2.0 NaN NaN NaN    NaN  ... NaN NaN   \n",
      "1          1     73558.0  1.0  0.0  1.0  2.0 NaN NaN NaN    NaN  ... NaN NaN   \n",
      "2          2     73559.0  2.0  0.0  1.0  2.0 NaN NaN NaN    NaN  ... NaN NaN   \n",
      "3          3     73560.0  0.0  0.0  2.0  2.0 NaN NaN NaN    NaN  ... NaN NaN   \n",
      "4          4     73561.0  1.0  0.0  1.0  2.0 NaN NaN NaN    NaN  ... NaN NaN   \n",
      "...      ...         ...  ...  ...  ...  ...  ..  ..  ..    ...  ...  ..  ..   \n",
      "10170  10170     83727.0  0.0  0.0  2.0  2.0 NaN NaN NaN    NaN  ... NaN NaN   \n",
      "10171  10171     83728.0  1.0  0.0  1.0  2.0 NaN NaN NaN    NaN  ... NaN NaN   \n",
      "10172  10172     83729.0  0.0  0.0  2.0  2.0 NaN NaN NaN    NaN  ... NaN NaN   \n",
      "10173  10173     83730.0  0.0  0.0  2.0  2.0 NaN NaN NaN    NaN  ... NaN NaN   \n",
      "10174  10174     83731.0  0.0  0.0  2.0  2.0 NaN NaN NaN    NaN  ... NaN NaN   \n",
      "\n",
      "       40  41  42  43  44  45  46  47  \n",
      "0     NaN NaN NaN NaN NaN NaN NaN NaN  \n",
      "1     NaN NaN NaN NaN NaN NaN NaN NaN  \n",
      "2     NaN NaN NaN NaN NaN NaN NaN NaN  \n",
      "3     NaN NaN NaN NaN NaN NaN NaN NaN  \n",
      "4     NaN NaN NaN NaN NaN NaN NaN NaN  \n",
      "...    ..  ..  ..  ..  ..  ..  ..  ..  \n",
      "10170 NaN NaN NaN NaN NaN NaN NaN NaN  \n",
      "10171 NaN NaN NaN NaN NaN NaN NaN NaN  \n",
      "10172 NaN NaN NaN NaN NaN NaN NaN NaN  \n",
      "10173 NaN NaN NaN NaN NaN NaN NaN NaN  \n",
      "10174 NaN NaN NaN NaN NaN NaN NaN NaN  \n",
      "\n",
      "[10175 rows x 48 columns]\n"
     ]
    }
   ],
   "source": [
    "df = pd.DataFrame()\n",
    "glu = pd.read_csv('FastingGlucose1314.csv', header = None, names=[\"patientnum\", \"1\", \"2\",\"fasting_glucose\", \"4\", \"5\"] )\n",
    "glu = pd.DataFrame(glu)\n",
    "bp = pd.read_csv('BloodPressure1314.csv', header = None, names=[\"10\",\"patientnum\", \"11\", \"12\", \"13\", \"14\", \"15\",\"16\", \"17\", \"18\", \"19\", \"20\", \"sysBP1\", \"diaBP1\", \"21\", \"sysBP2\", \"diaBP2\", \"24\", \"sysBP3\", \"diaBP3\", \"27\", \"28\", \"29\", \"30\", \"31\", \"32\", \"33\", \"34\", \"35\", \"36\"] )\n",
    "bp = pd.DataFrame(bp)\n",
    "bmi = pd.read_csv('BMI1314.csv', header = None, names=[\"0\",\"patientnum\",\"2\", \"3\", \"4\", \"5\",\"6\", \"7\", \"8\", \"9\", \"10\", \"BMI\", \"12\",\"13\", \"14\", \"15\",\"16\", \"17\", \"18\", \"19\", \"20\", \"21\", \"22\", \"23\", \"24\",\"25\",\"26\"])\n",
    "bmi = pd.DataFrame(bmi)\n",
    "diaquest = pd.read_csv('Diabetes1314.csv', header = None, names=[\"0\", \"patientnum\",\"diabetes\", \"3\", \"4\", \"5\",\"6\", \"7\", \"8\", \"9\", \"10\", \"11\", \"12\",\"13\", \"14\", \"15\",\"16\", \"17\", \"18\", \"19\", \"20\", \"21\", \"22\", \"23\", \"24\",\"25\", \"26\",\"27\", \"28\", \"29\",\"30\", \"31\", \"32\", \"33\", \"34\", \"35\", \"36\",\"37\", \"38\", \"39\",\"40\", \"41\", \"42\", \"43\", \"44\", \"45\", \"46\",\"47\", \"48\", \"49\",\"50\", \"51\",\"52\",\"53\",\"54\"])\n",
    "diaquest = pd.DataFrame(diaquest)\n",
    "demogender = pd.read_csv('Demographic1314.csv', header = None, names=[\"0\",\"patientnum\",\"2\", \"3\", \"gender\", \"5\",\"6\", \"7\", \"8\", \"9\", \"10\", \"11\", \"12\",\"13\", \"14\", \"15\",\"16\", \"17\", \"18\", \"19\", \"20\", \"21\", \"22\", \"23\", \"24\", \"25\", \"26\", \"27\", \"28\", \"29\", \"30\", \"31\", \"32\", \"33\", \"34\", \"35\", \"36\", \"37\", \"38\", \"39\", \"40\", \"41\", \"42\", \"43\",\"44\",\"45\",\"46\",\"47\"])\n",
    "demogender = pd.DataFrame(demogender)\n",
    "ldl = pd.read_csv('Cholesterol1314.csv', header = None,index_col = '0', names=[\"0\",\"patientnum\",\"2\", \"3\", \"4\", \"LDL\",\"6\"])\n",
    "ldl = pd.DataFrame(ldl)\n",
    "alcohol = pd.read_csv('AlcoholUse1314.csv', header = None, names=[\"0\",\"patientnum\",\"12drinksayear\", \"3\", \"4\", \"5\",\"6\", \"7\", \"8\", \"5drinksaday\",'9', \"5drinks2hours\"])\n",
    "alcohol = pd.DataFrame(alcohol)\n",
    "demoage = pd.read_csv('Demographic1314.csv', header = None, names=[\"0\",\"patientnum\",\"2\", \"3\", \"4\", \"age\",\"6\", \"7\", \"8\", \"9\", \"10\", \"11\", \"12\",\"13\", \"14\", \"15\",\"16\", \"17\", \"18\", \"19\", \"20\", \"21\", \"22\", \"23\", \"24\", \"25\", \"26\", \"27\", \"28\", \"29\", \"30\", \"31\", \"32\", \"33\", \"34\", \"35\", \"36\", \"37\", \"38\", \"39\", \"40\", \"41\", \"42\", \"43\",\"44\",\"45\",\"46\",\"47\"])\n",
    "demoage = pd.DataFrame(demoage)\n",
    "demorace = pd.read_csv('Demographic1314.csv', header = None, names=[\"0\",\"patientnum\",\"2\", \"3\", \"4\", \"5\",\"6\", \"7\", \"race\", \"9\", \"10\", \"11\", \"12\",\"13\", \"14\", \"15\",\"16\", \"17\", \"18\", \"19\", \"20\", \"21\", \"22\", \"23\", \"24\", \"25\", \"26\", \"27\", \"28\", \"29\", \"30\", \"31\", \"32\", \"33\", \"34\", \"35\", \"36\", \"37\", \"38\", \"39\", \"40\", \"41\", \"42\", \"43\",\"44\",\"45\",\"46\",\"47\"])\n",
    "demorace = pd.DataFrame(demorace)   \n",
    "sugar = pd.read_csv('Sugar1314.csv', header = None, names=[\"0\",\"patientnum\",\"2\", \"3\", \"4\", \"5\",\"6\", \"7\", \"8\", \"sugar\", \"10\", \"11\", \"12\",\"13\", \"14\", \"15\",\"16\", \"17\", \"18\", \"19\", \"20\", \"21\", \"22\", \"23\", \"24\", \"25\", \"26\", \"27\", \"28\", \"29\", \"30\", \"31\", \"32\", \"33\", \"34\", \"35\", \"36\", \"37\", \"38\", \"39\", \"40\", \"41\", \"42\", \"43\",\"44\",\"45\",\"46\",\"47\"])\n",
    "sugar = pd.DataFrame(sugar)\n",
    "print(sugar)\n"
   ]
  },
  {
   "cell_type": "code",
   "execution_count": 52,
   "metadata": {},
   "outputs": [],
   "source": [
    "joint = pd.merge(glu, bp, how=\"inner\", on = \"patientnum\")\n",
    "joint = pd.merge(joint, bmi, how = \"inner\", on =\"patientnum\")\n",
    "joint = pd.merge(joint,diaquest, how = 'inner', on = \"patientnum\")\n",
    "joint = pd.merge(joint,demogender, how = 'inner', on = \"patientnum\")\n",
    "joint = pd.merge(joint,ldl, how = 'inner', on = \"patientnum\")\n",
    "joint = pd.merge(joint,alcohol, how = 'inner', on = \"patientnum\")\n",
    "joint = pd.merge(joint,demoage, how = 'inner', on = \"patientnum\")\n",
    "joint = pd.merge(joint,demorace, how = 'inner', on = \"patientnum\")\n",
    "joint = pd.merge(joint,sugar, how = 'inner', on = \"patientnum\")\n",
    "joint = pd.DataFrame(joint)\n"
   ]
  },
  {
   "cell_type": "code",
   "execution_count": 53,
   "metadata": {},
   "outputs": [],
   "source": [
    "df1 = pd.DataFrame(joint[\"patientnum\"])\n",
    "df2 = pd.DataFrame(joint[\"sysBP1\"])\n",
    "df3 = pd.DataFrame(joint[\"diaBP1\"])\n",
    "df4 = pd.DataFrame(joint[\"sysBP2\"])\n",
    "df5 = pd.DataFrame(joint[\"diaBP2\"])\n",
    "df6 = pd.DataFrame(joint[\"sysBP3\"])\n",
    "df7 = pd.DataFrame(joint[\"diaBP3\"])\n",
    "df8 = pd.DataFrame(joint[\"BMI\"])\n",
    "df9 = pd.DataFrame(joint[\"fasting_glucose\"])\n",
    "df10 = pd.DataFrame(joint[\"diabetes\"])\n",
    "df11 = pd.DataFrame(joint[\"gender\"])\n",
    "df12 = pd.DataFrame(joint[\"LDL\"])\n",
    "df13 = pd.DataFrame(joint[\"12drinksayear\"])\n",
    "df14 = pd.DataFrame(joint[\"5drinksaday\"])\n",
    "df15 = pd.DataFrame(joint[\"5drinks2hours\"])\n",
    "df16 = pd.DataFrame(joint[\"age\"])\n",
    "df17 = pd.DataFrame(joint[\"race\"])\n",
    "#df18 = pd.DataFrame(joint[\"hours\"])\n",
    "#df19 = pd.DataFrame(joint[\"se\"])\n",
    "df20 = pd.DataFrame(joint[\"sugar\"])\n",
    "df1314 = pd.concat([df1,df10,df2,df3,df4,df5,df6,df7,df8,df9,df11,df12,df13,df14,df15,df16,df17,df20], axis=1)"
   ]
  },
  {
   "cell_type": "code",
   "execution_count": 54,
   "metadata": {},
   "outputs": [
    {
     "name": "stdout",
     "output_type": "stream",
     "text": [
      "      patientnum  diabetes   BMI  fasting_glucose  gender    LDL  \\\n",
      "0        73559.0       1.0  28.9           10.713     1.0   56.0   \n",
      "1        73561.0       0.0  19.7            5.940     2.0  101.0   \n",
      "2        73564.0       0.0  35.7            6.106     2.0   97.0   \n",
      "3        73568.0       0.0  20.3            4.940     2.0   67.0   \n",
      "4        73574.0       0.0  22.8            4.663     2.0   75.0   \n",
      "...          ...       ...   ...              ...     ...    ...   \n",
      "2835     83713.0       0.0  23.7            5.718     1.0   94.0   \n",
      "2836     83714.0       0.0  28.1            4.940     2.0  127.0   \n",
      "2837     83718.0       0.0  27.4            4.996     2.0  135.0   \n",
      "2838     83723.0       1.0  33.1            8.826     1.0  116.0   \n",
      "2839     83727.0       0.0  24.5            5.995     1.0  119.0   \n",
      "\n",
      "      12drinksayear  5drinksaday  5drinks2hours   age  race  sugar  \\\n",
      "0               1.0          2.0            NaN  72.0   3.0    NaN   \n",
      "1               1.0          2.0            NaN  73.0   3.0    NaN   \n",
      "2               2.0          2.0            NaN  61.0   3.0   0.33   \n",
      "3               1.0          2.0            NaN  26.0   3.0    NaN   \n",
      "4               2.0          NaN            NaN  33.0   6.0    NaN   \n",
      "...             ...          ...            ...   ...   ...    ...   \n",
      "2835            NaN          NaN            NaN  34.0   6.0    NaN   \n",
      "2836            NaN          NaN            NaN  19.0   3.0    NaN   \n",
      "2837            1.0          1.0            NaN  60.0   4.0    NaN   \n",
      "2838            1.0          1.0            NaN  61.0   1.0    NaN   \n",
      "2839            1.0          2.0            NaN  26.0   2.0    NaN   \n",
      "\n",
      "        avrsysBP   avrdiaBP  \n",
      "0     142.000000  82.000000  \n",
      "1     137.333333  86.666667  \n",
      "2     122.666667  80.666667  \n",
      "3     104.666667  62.666667  \n",
      "4     121.333333  62.000000  \n",
      "...          ...        ...  \n",
      "2835  114.666667  68.666667  \n",
      "2836  112.666667  66.000000  \n",
      "2837  116.000000  69.333333  \n",
      "2838         NaN        NaN  \n",
      "2839  112.666667  72.666667  \n",
      "\n",
      "[2754 rows x 14 columns]\n"
     ]
    }
   ],
   "source": [
    "#df1516[\"sleep\"]=24-df1516[\"hours\"]-df1516[\"se\"]/60\n",
    "df1314[\"avrsysBP\"]=(df1314[ \"sysBP1\"]+df1314[ \"sysBP2\"]+df1314[ \"sysBP3\"])/3\n",
    "df1314[\"avrdiaBP\"]=(df1314[ \"diaBP1\"]+df1314[ \"diaBP2\"]+df1314[ \"diaBP3\"])/3\n",
    "df1314.loc[df1314['diabetes'] ==2,'diabetes']=0\n",
    "df1314 = df1314[df1314[\"diabetes\"] != 3.0]\n",
    "df1314 = df1314[df1314[\"diabetes\"] != 9.0]\n",
    "df1314.drop(['sysBP1','sysBP2','sysBP3','diaBP1','diaBP2','diaBP3'],axis=1,inplace=True)\n",
    "print(df1314)"
   ]
  },
  {
   "cell_type": "markdown",
   "metadata": {},
   "source": [
    "#Dummy Variables\n",
    "\n",
    "dummy_5drinks2hours = pd.get_dummies(df1516[\"5drinks2hours\"], dummy_na=True)\n"
   ]
  },
  {
   "cell_type": "markdown",
   "metadata": {},
   "source": [
    "print(dummy_5drinks2hours)"
   ]
  },
  {
   "cell_type": "markdown",
   "metadata": {},
   "source": [
    "dummy_5drinks2hours.columns = dummy_5drinks2hours.columns.astype(str)"
   ]
  },
  {
   "cell_type": "markdown",
   "metadata": {},
   "source": [
    "print(dummy_5drinks2hours)"
   ]
  },
  {
   "cell_type": "markdown",
   "metadata": {},
   "source": [
    "dummy_5drinks2hours.rename(columns={'nan':'dummy_5drinks2hours'},inplace=True)"
   ]
  },
  {
   "cell_type": "markdown",
   "metadata": {},
   "source": [
    "print(dummy_5drinks2hours[\"dummy_5drinks2hours\"])"
   ]
  },
  {
   "cell_type": "markdown",
   "metadata": {},
   "source": [
    "df1516 = pd.concat([df1516, dummy_5drinks2hours[\"dummy_5drinks2hours\"]], axis=1)"
   ]
  },
  {
   "cell_type": "markdown",
   "metadata": {
    "scrolled": true
   },
   "source": [
    "print(df1516)"
   ]
  },
  {
   "cell_type": "code",
   "execution_count": 55,
   "metadata": {},
   "outputs": [],
   "source": [
    "final_df = pd.concat([df1516, df1314], axis =0)\n",
    "for x in ['BMI', 'fasting_glucose', 'gender', 'LDL','age', 'race', 'sugar', 'avrsysBP', 'avrdiaBP','12drinksayear', '5drinksaday']:\n",
    "    dummy=pd.get_dummies(final_df[x],dummy_na=True)\n",
    "    dummy.columns=dummy.columns.astype(str)\n",
    "    y=x+\"_\"+\"NaN\"\n",
    "    dummy.rename(columns={'nan':y},inplace= True)\n",
    "    s=pd.DataFrame(dummy[y])\n",
    "    final_df=pd.concat([final_df,s],axis=1)"
   ]
  },
  {
   "cell_type": "code",
   "execution_count": 56,
   "metadata": {},
   "outputs": [
    {
     "name": "stdout",
     "output_type": "stream",
     "text": [
      "      patientnum  diabetes   BMI  fasting_glucose  gender    LDL  \\\n",
      "0        83733.0       0.0  30.8            5.590     1.0  173.0   \n",
      "1        83734.0       1.0  28.8            4.660     1.0  145.0   \n",
      "2        83736.0       0.0  20.3            4.660     2.0  142.0   \n",
      "3        83737.0       0.0  28.6            5.930     2.0  103.0   \n",
      "4        83741.0       0.0  28.0            5.270     1.0  102.0   \n",
      "...          ...       ...   ...              ...     ...    ...   \n",
      "2835     83713.0       0.0  23.7            5.718     1.0   94.0   \n",
      "2836     83714.0       0.0  28.1            4.940     2.0  127.0   \n",
      "2837     83718.0       0.0  27.4            4.996     2.0  135.0   \n",
      "2838     83723.0       1.0  33.1            8.826     1.0  116.0   \n",
      "2839     83727.0       0.0  24.5            5.995     1.0  119.0   \n",
      "\n",
      "      12drinksayear  5drinksaday  5drinks2hours   age  ...  \\\n",
      "0               1.0          1.0            0.0  53.0  ...   \n",
      "1               1.0          1.0            NaN  78.0  ...   \n",
      "2               2.0          2.0            NaN  42.0  ...   \n",
      "3               2.0          NaN            NaN  72.0  ...   \n",
      "4               1.0          1.0            2.0  22.0  ...   \n",
      "...             ...          ...            ...   ...  ...   \n",
      "2835            NaN          NaN            NaN  34.0  ...   \n",
      "2836            NaN          NaN            NaN  19.0  ...   \n",
      "2837            1.0          1.0            NaN  60.0  ...   \n",
      "2838            1.0          1.0            NaN  61.0  ...   \n",
      "2839            1.0          2.0            NaN  26.0  ...   \n",
      "\n",
      "      fasting_glucose_NaN  gender_NaN  LDL_NaN  age_NaN  race_NaN  sugar_NaN  \\\n",
      "0                       0           0        0        0         0          1   \n",
      "1                       0           0        0        0         0          1   \n",
      "2                       0           0        0        0         0          1   \n",
      "3                       0           0        0        0         0          1   \n",
      "4                       0           0        0        0         0          1   \n",
      "...                   ...         ...      ...      ...       ...        ...   \n",
      "2835                    0           0        0        0         0          1   \n",
      "2836                    0           0        0        0         0          1   \n",
      "2837                    0           0        0        0         0          1   \n",
      "2838                    0           0        0        0         0          1   \n",
      "2839                    0           0        0        0         0          1   \n",
      "\n",
      "      avrsysBP_NaN  avrdiaBP_NaN  12drinksayear_NaN  5drinksaday_NaN  \n",
      "0                0             0                  0                0  \n",
      "1                0             0                  0                0  \n",
      "2                0             0                  0                0  \n",
      "3                0             0                  0                1  \n",
      "4                0             0                  0                0  \n",
      "...            ...           ...                ...              ...  \n",
      "2835             0             0                  1                1  \n",
      "2836             0             0                  1                1  \n",
      "2837             0             0                  0                0  \n",
      "2838             1             1                  0                0  \n",
      "2839             0             0                  0                0  \n",
      "\n",
      "[5417 rows x 25 columns]\n",
      "5417\n",
      "2663\n",
      "2754\n"
     ]
    }
   ],
   "source": [
    "print(final_df)\n",
    "print(len(final_df))\n",
    "print(len(df1516))\n",
    "print(len(df1314))"
   ]
  },
  {
   "cell_type": "code",
   "execution_count": 57,
   "metadata": {},
   "outputs": [
    {
     "name": "stdout",
     "output_type": "stream",
     "text": [
      "      patientnum  diabetes   BMI  fasting_glucose  gender    LDL  \\\n",
      "0        83733.0       0.0  30.8            5.590     1.0  173.0   \n",
      "1        83734.0       1.0  28.8            4.660     1.0  145.0   \n",
      "2        83736.0       0.0  20.3            4.660     2.0  142.0   \n",
      "3        83737.0       0.0  28.6            5.930     2.0  103.0   \n",
      "4        83741.0       0.0  28.0            5.270     1.0  102.0   \n",
      "...          ...       ...   ...              ...     ...    ...   \n",
      "5412     83713.0       0.0  23.7            5.718     1.0   94.0   \n",
      "5413     83714.0       0.0  28.1            4.940     2.0  127.0   \n",
      "5414     83718.0       0.0  27.4            4.996     2.0  135.0   \n",
      "5415     83723.0       1.0  33.1            8.826     1.0  116.0   \n",
      "5416     83727.0       0.0  24.5            5.995     1.0  119.0   \n",
      "\n",
      "      12drinksayear  5drinksaday  5drinks2hours   age  ...  \\\n",
      "0          1.000000     1.000000       0.000000  53.0  ...   \n",
      "1          1.000000     1.000000      10.236998  78.0  ...   \n",
      "2          2.000000     2.000000      10.233350  42.0  ...   \n",
      "3          2.000000     1.930248      10.235129  72.0  ...   \n",
      "4          1.000000     1.000000       2.000000  22.0  ...   \n",
      "...             ...          ...            ...   ...  ...   \n",
      "5412       1.913673     1.846021      10.257287  34.0  ...   \n",
      "5413       1.971698     1.966291      10.254465  19.0  ...   \n",
      "5414       1.000000     1.000000      10.252116  60.0  ...   \n",
      "5415       1.000000     1.000000      10.247987  61.0  ...   \n",
      "5416       1.000000     2.000000      10.242394  26.0  ...   \n",
      "\n",
      "      fasting_glucose_NaN  gender_NaN  LDL_NaN  age_NaN  race_NaN  sugar_NaN  \\\n",
      "0                     0.0         0.0      0.0      0.0       0.0        1.0   \n",
      "1                     0.0         0.0      0.0      0.0       0.0        1.0   \n",
      "2                     0.0         0.0      0.0      0.0       0.0        1.0   \n",
      "3                     0.0         0.0      0.0      0.0       0.0        1.0   \n",
      "4                     0.0         0.0      0.0      0.0       0.0        1.0   \n",
      "...                   ...         ...      ...      ...       ...        ...   \n",
      "5412                  0.0         0.0      0.0      0.0       0.0        1.0   \n",
      "5413                  0.0         0.0      0.0      0.0       0.0        1.0   \n",
      "5414                  0.0         0.0      0.0      0.0       0.0        1.0   \n",
      "5415                  0.0         0.0      0.0      0.0       0.0        1.0   \n",
      "5416                  0.0         0.0      0.0      0.0       0.0        1.0   \n",
      "\n",
      "      avrsysBP_NaN  avrdiaBP_NaN  12drinksayear_NaN  5drinksaday_NaN  \n",
      "0              0.0           0.0                0.0              0.0  \n",
      "1              0.0           0.0                0.0              0.0  \n",
      "2              0.0           0.0                0.0              0.0  \n",
      "3              0.0           0.0                0.0              1.0  \n",
      "4              0.0           0.0                0.0              0.0  \n",
      "...            ...           ...                ...              ...  \n",
      "5412           0.0           0.0                1.0              1.0  \n",
      "5413           0.0           0.0                1.0              1.0  \n",
      "5414           0.0           0.0                0.0              0.0  \n",
      "5415           1.0           1.0                0.0              0.0  \n",
      "5416           0.0           0.0                0.0              0.0  \n",
      "\n",
      "[5417 rows x 25 columns]\n"
     ]
    }
   ],
   "source": [
    "#Imputation using MICE\n",
    "from fancyimpute import IterativeImputer as MICE\n",
    "final_df_cols = list(final_df)\n",
    "final_df_MICE = pd.DataFrame(MICE().fit_transform(final_df))\n",
    "final_df_MICE.columns = final_df_cols\n",
    "print(final_df_MICE)"
   ]
  },
  {
   "cell_type": "code",
   "execution_count": 87,
   "metadata": {},
   "outputs": [
    {
     "name": "stdout",
     "output_type": "stream",
     "text": [
      "      patientnum  diabetes   BMI fasting_glucose  gender  LDL  \\\n",
      "0        83733.0       0.0  30.8            5.59     1.0  173   \n",
      "1        83734.0       1.0  28.8            4.66     1.0  145   \n",
      "2        83736.0       0.0  20.3            4.66     2.0  142   \n",
      "3        83737.0       0.0  28.6            5.93     2.0  103   \n",
      "4        83741.0       0.0    28            5.27     1.0  102   \n",
      "...          ...       ...   ...             ...     ...  ...   \n",
      "2835     83713.0       0.0  23.7           5.718     1.0   94   \n",
      "2836     83714.0       0.0  28.1            4.94     2.0  127   \n",
      "2837     83718.0       0.0  27.4           4.996     2.0  135   \n",
      "2838     83723.0       1.0  33.1           8.826     1.0  116   \n",
      "2839     83727.0       0.0  24.5           5.995     1.0  119   \n",
      "\n",
      "                                          12drinksayear  \\\n",
      "0                                                     1   \n",
      "1                                                     1   \n",
      "2                                                     2   \n",
      "3                                                     2   \n",
      "4                                                     1   \n",
      "...                                                 ...   \n",
      "2835  <bound method Series.mean of 0       1.0\\n1   ...   \n",
      "2836  <bound method Series.mean of 0       1.0\\n1   ...   \n",
      "2837                                                  1   \n",
      "2838                                                  1   \n",
      "2839                                                  1   \n",
      "\n",
      "                                            5drinksaday  \\\n",
      "0                                                     1   \n",
      "1                                                     1   \n",
      "2                                                     2   \n",
      "3     <bound method Series.mean of 0       1.0\\n1   ...   \n",
      "4                                                     1   \n",
      "...                                                 ...   \n",
      "2835  <bound method Series.mean of 0       1.0\\n1   ...   \n",
      "2836  <bound method Series.mean of 0       1.0\\n1   ...   \n",
      "2837                                                  1   \n",
      "2838                                                  1   \n",
      "2839                                                  2   \n",
      "\n",
      "                                          5drinks2hours   age  ...  \\\n",
      "0                                                     0  53.0  ...   \n",
      "1     <bound method Series.mean of 0       0.0\\n1   ...  78.0  ...   \n",
      "2     <bound method Series.mean of 0       0.0\\n1   ...  42.0  ...   \n",
      "3     <bound method Series.mean of 0       0.0\\n1   ...  72.0  ...   \n",
      "4                                                     2  22.0  ...   \n",
      "...                                                 ...   ...  ...   \n",
      "2835  <bound method Series.mean of 0       0.0\\n1   ...  34.0  ...   \n",
      "2836  <bound method Series.mean of 0       0.0\\n1   ...  19.0  ...   \n",
      "2837  <bound method Series.mean of 0       0.0\\n1   ...  60.0  ...   \n",
      "2838  <bound method Series.mean of 0       0.0\\n1   ...  61.0  ...   \n",
      "2839  <bound method Series.mean of 0       0.0\\n1   ...  26.0  ...   \n",
      "\n",
      "      fasting_glucose_NaN gender_NaN LDL_NaN age_NaN  race_NaN  sugar_NaN  \\\n",
      "0                       0          0       0       0         0          1   \n",
      "1                       0          0       0       0         0          1   \n",
      "2                       0          0       0       0         0          1   \n",
      "3                       0          0       0       0         0          1   \n",
      "4                       0          0       0       0         0          1   \n",
      "...                   ...        ...     ...     ...       ...        ...   \n",
      "2835                    0          0       0       0         0          1   \n",
      "2836                    0          0       0       0         0          1   \n",
      "2837                    0          0       0       0         0          1   \n",
      "2838                    0          0       0       0         0          1   \n",
      "2839                    0          0       0       0         0          1   \n",
      "\n",
      "      avrsysBP_NaN  avrdiaBP_NaN  12drinksayear_NaN  5drinksaday_NaN  \n",
      "0                0             0                  0                0  \n",
      "1                0             0                  0                0  \n",
      "2                0             0                  0                0  \n",
      "3                0             0                  0                1  \n",
      "4                0             0                  0                0  \n",
      "...            ...           ...                ...              ...  \n",
      "2835             0             0                  1                1  \n",
      "2836             0             0                  1                1  \n",
      "2837             0             0                  0                0  \n",
      "2838             1             1                  0                0  \n",
      "2839             0             0                  0                0  \n",
      "\n",
      "[5417 rows x 25 columns]\n"
     ]
    }
   ],
   "source": [
    "#final_df_cols = list(final_df)\n",
    "#for i in final_df_cols:\n",
    "    #final_df[i] = final_df[i].fillna(final_df[i].mean)\n",
    "#print(final_df)"
   ]
  },
  {
   "cell_type": "code",
   "execution_count": null,
   "metadata": {},
   "outputs": [],
   "source": [
    "sklearn.preprocessing.normalize(final_df, norm='l1', axis=0, copy=True)\n",
    "knn_final_df = pd.DataFrame(KNN(k=73).fit_transform(final_df))\n",
    "knn_final_df.columns = final_df_cols\n",
    "print(len(knn_final_df))"
   ]
  },
  {
   "cell_type": "code",
   "execution_count": 60,
   "metadata": {},
   "outputs": [],
   "source": [
    "X = final_df_MICE.loc[:, final_df_MICE.columns != 'diabetes']\n",
    "y = final_df_MICE.loc[:, final_df_MICE.columns == 'diabetes']\n",
    "\n",
    "from imblearn.over_sampling import SMOTE\n",
    "os = SMOTE(random_state=0)\n",
    "columns = X.columns\n",
    "os_data_X,os_data_y=os.fit_sample(X, y.values.ravel())\n",
    "os_data_X = pd.DataFrame(data=os_data_X,columns=columns )\n",
    "os_data_y= pd.DataFrame(data=os_data_y,columns=['diabetes'])\n",
    "X=os_data_X\n",
    "y=os_data_y['diabetes']\n",
    "X_train, X_test, y_train, y_test = train_test_split(X, y, test_size=0.3, random_state=0)\n",
    "columns = X_train.columns\n",
    "os_data_X,os_data_y=os.fit_sample(X_train, y_train)\n",
    "os_data_X = pd.DataFrame(data=os_data_X,columns=columns)\n",
    "os_data_y= pd.DataFrame(data=os_data_y,columns=['y'])"
   ]
  },
  {
   "cell_type": "code",
   "execution_count": 61,
   "metadata": {},
   "outputs": [
    {
     "name": "stdout",
     "output_type": "stream",
     "text": [
      "['patientnum', 'BMI', 'fasting_glucose', 'gender', 'LDL', '12drinksayear', '5drinksaday', '5drinks2hours', 'age', 'race', 'sugar', 'avrsysBP', 'avrdiaBP']\n"
     ]
    },
    {
     "name": "stderr",
     "output_type": "stream",
     "text": [
      "/Library/Frameworks/Python.framework/Versions/3.7/lib/python3.7/site-packages/sklearn/linear_model/logistic.py:432: FutureWarning: Default solver will be changed to 'lbfgs' in 0.22. Specify a solver to silence this warning.\n",
      "  FutureWarning)\n",
      "/Library/Frameworks/Python.framework/Versions/3.7/lib/python3.7/site-packages/sklearn/linear_model/logistic.py:432: FutureWarning: Default solver will be changed to 'lbfgs' in 0.22. Specify a solver to silence this warning.\n",
      "  FutureWarning)\n",
      "/Library/Frameworks/Python.framework/Versions/3.7/lib/python3.7/site-packages/sklearn/linear_model/logistic.py:432: FutureWarning: Default solver will be changed to 'lbfgs' in 0.22. Specify a solver to silence this warning.\n",
      "  FutureWarning)\n",
      "/Library/Frameworks/Python.framework/Versions/3.7/lib/python3.7/site-packages/sklearn/linear_model/logistic.py:432: FutureWarning: Default solver will be changed to 'lbfgs' in 0.22. Specify a solver to silence this warning.\n",
      "  FutureWarning)\n"
     ]
    },
    {
     "name": "stdout",
     "output_type": "stream",
     "text": [
      "[False  True  True  True  True  True  True  True  True  True  True  True\n",
      "  True  True  True False  True False False  True  True  True  True  True]\n",
      "[2 1 1 1 1 1 1 1 1 1 1 1 1 1 1 3 1 4 5 1 1 1 1 1]\n"
     ]
    },
    {
     "name": "stderr",
     "output_type": "stream",
     "text": [
      "/Library/Frameworks/Python.framework/Versions/3.7/lib/python3.7/site-packages/sklearn/linear_model/logistic.py:432: FutureWarning: Default solver will be changed to 'lbfgs' in 0.22. Specify a solver to silence this warning.\n",
      "  FutureWarning)\n"
     ]
    }
   ],
   "source": [
    "data_final_vars=df1516.columns.values.tolist()\n",
    "y=['diabetes']\n",
    "X=[i for i in data_final_vars if i not in y]\n",
    "print(X)\n",
    "from sklearn.feature_selection import RFE\n",
    "from sklearn.linear_model import LogisticRegression\n",
    "logreg = LogisticRegression()\n",
    "rfe = RFE(logreg, 20)\n",
    "rfe = rfe.fit(os_data_X, os_data_y.values.ravel())\n",
    "print(rfe.support_)\n",
    "print(rfe.ranking_)"
   ]
  },
  {
   "cell_type": "code",
   "execution_count": 62,
   "metadata": {},
   "outputs": [],
   "source": [
    "cols=['BMI', 'fasting_glucose', 'gender', 'LDL', '12drinksayear', '5drinksaday','5drinks2hours','age', 'race', 'sugar', 'avrsysBP', 'avrdiaBP', 'BMI_NaN',  'fasting_glucose_NaN', 'LDL_NaN', 'avrsysBP_NaN', 'avrdiaBP_NaN', '12drinksayear_NaN', '5drinksaday_NaN'] \n",
    "#remove sugar_NaN\n",
    "X=os_data_X[cols]\n",
    "y=os_data_y['y']"
   ]
  },
  {
   "cell_type": "code",
   "execution_count": 63,
   "metadata": {},
   "outputs": [
    {
     "name": "stdout",
     "output_type": "stream",
     "text": [
      "Optimization terminated successfully.\n",
      "         Current function value: 0.354318\n",
      "         Iterations 8\n",
      "                                                Results: Logit\n",
      "==============================================================================================================\n",
      "Model:                              Logit                           Pseudo R-squared:                0.489    \n",
      "Dependent Variable:                 y                               AIC:                             4710.1589\n",
      "Date:                               2019-11-13 08:46                BIC:                             4832.4549\n",
      "No. Observations:                   6596                            Log-Likelihood:                  -2337.1  \n",
      "Df Model:                           17                              LL-Null:                         -4572.0  \n",
      "Df Residuals:                       6578                            LLR p-value:                     0.0000   \n",
      "Converged:                          1.0000                          Scale:                           1.0000   \n",
      "No. Iterations:                     8.0000                                                                    \n",
      "--------------------------------------------------------------------------------------------------------------\n",
      "                     Coef.         Std.Err.          z     P>|z|          [0.025                 0.975]       \n",
      "--------------------------------------------------------------------------------------------------------------\n",
      "BMI                  0.0300                0.0061   4.9102 0.0000                 0.0180                0.0419\n",
      "fasting_glucose      0.9814                0.0328  29.9128 0.0000                 0.9171                1.0457\n",
      "gender              -0.1661                0.0939  -1.7688 0.0769                -0.3501                0.0179\n",
      "LDL                 -0.0264                0.0014 -18.3018 0.0000                -0.0293               -0.0236\n",
      "12drinksayear        0.0371                   nan      nan    nan                    nan                   nan\n",
      "5drinksaday         -1.4618                   nan      nan    nan                    nan                   nan\n",
      "5drinks2hours       -0.0014                0.0015  -0.9140 0.3607                -0.0043                0.0016\n",
      "age                  0.0447                0.0024  18.6998 0.0000                 0.0400                0.0494\n",
      "race                -0.0573                0.0232  -2.4698 0.0135                -0.1028               -0.0118\n",
      "sugar               -0.3588                0.0581  -6.1717 0.0000                -0.4727               -0.2448\n",
      "avrsysBP            -0.0186                0.0023  -7.9532 0.0000                -0.0232               -0.0140\n",
      "avrdiaBP            -0.0172                0.0034  -5.0895 0.0000                -0.0238               -0.0106\n",
      "BMI_NaN             -0.6788                0.3873  -1.7524 0.0797                -1.4380                0.0804\n",
      "fasting_glucose_NaN -1.0856                0.2618  -4.1468 0.0000                -1.5987               -0.5725\n",
      "LDL_NaN              0.0837                0.1668   0.5018 0.6158                -0.2433                0.4107\n",
      "avrsysBP_NaN        -0.0253 1244179675834112.7500  -0.0000 1.0000 -2438547354931580.5000 2438547354931580.5000\n",
      "avrdiaBP_NaN        -0.0253 1244179675834113.0000  -0.0000 1.0000 -2438547354931581.0000 2438547354931581.0000\n",
      "12drinksayear_NaN   -0.3595                0.1685  -2.1337 0.0329                -0.6897               -0.0293\n",
      "5drinksaday_NaN      0.5086                0.0923   5.5114 0.0000                 0.3277                0.6894\n",
      "==============================================================================================================\n",
      "\n"
     ]
    },
    {
     "name": "stderr",
     "output_type": "stream",
     "text": [
      "/Library/Frameworks/Python.framework/Versions/3.7/lib/python3.7/site-packages/statsmodels/base/model.py:1286: RuntimeWarning: invalid value encountered in sqrt\n",
      "  bse_ = np.sqrt(np.diag(self.cov_params()))\n",
      "/Library/Frameworks/Python.framework/Versions/3.7/lib/python3.7/site-packages/scipy/stats/_distn_infrastructure.py:901: RuntimeWarning: invalid value encountered in greater\n",
      "  return (a < x) & (x < b)\n",
      "/Library/Frameworks/Python.framework/Versions/3.7/lib/python3.7/site-packages/scipy/stats/_distn_infrastructure.py:901: RuntimeWarning: invalid value encountered in less\n",
      "  return (a < x) & (x < b)\n",
      "/Library/Frameworks/Python.framework/Versions/3.7/lib/python3.7/site-packages/scipy/stats/_distn_infrastructure.py:1892: RuntimeWarning: invalid value encountered in less_equal\n",
      "  cond2 = cond0 & (x <= _a)\n"
     ]
    }
   ],
   "source": [
    "import statsmodels.api as sm\n",
    "logit_model=sm.Logit(y,X)\n",
    "result=logit_model.fit()\n",
    "print(result.summary2())"
   ]
  },
  {
   "cell_type": "code",
   "execution_count": 64,
   "metadata": {},
   "outputs": [
    {
     "name": "stderr",
     "output_type": "stream",
     "text": [
      "/Library/Frameworks/Python.framework/Versions/3.7/lib/python3.7/site-packages/sklearn/linear_model/logistic.py:432: FutureWarning: Default solver will be changed to 'lbfgs' in 0.22. Specify a solver to silence this warning.\n",
      "  FutureWarning)\n"
     ]
    },
    {
     "data": {
      "text/plain": [
       "LogisticRegression(C=1.0, class_weight=None, dual=False, fit_intercept=True,\n",
       "                   intercept_scaling=1, l1_ratio=None, max_iter=100,\n",
       "                   multi_class='warn', n_jobs=None, penalty='l2',\n",
       "                   random_state=None, solver='warn', tol=0.0001, verbose=0,\n",
       "                   warm_start=False)"
      ]
     },
     "execution_count": 64,
     "metadata": {},
     "output_type": "execute_result"
    }
   ],
   "source": [
    "from sklearn.linear_model import LogisticRegression\n",
    "from sklearn import metrics\n",
    "X_train, X_test, y_train, y_test = train_test_split(X, y, test_size=0.3, random_state=0)\n",
    "logreg = LogisticRegression()\n",
    "logreg.fit(X_train, y_train)"
   ]
  },
  {
   "cell_type": "code",
   "execution_count": 65,
   "metadata": {},
   "outputs": [
    {
     "name": "stdout",
     "output_type": "stream",
     "text": [
      "Accuracy of logistic regression classifier on test set: 0.87\n"
     ]
    }
   ],
   "source": [
    "y_pred = logreg.predict(X_test)\n",
    "print('Accuracy of logistic regression classifier on test set: {:.2f}'.format(logreg.score(X_test, y_test)))"
   ]
  },
  {
   "cell_type": "code",
   "execution_count": 34,
   "metadata": {},
   "outputs": [
    {
     "name": "stdout",
     "output_type": "stream",
     "text": [
      "[[886 110]\n",
      " [170 813]]\n"
     ]
    }
   ],
   "source": [
    "from sklearn.metrics import confusion_matrix\n",
    "confusion_matrix = confusion_matrix(y_test, y_pred)\n",
    "print(confusion_matrix)"
   ]
  },
  {
   "cell_type": "code",
   "execution_count": 35,
   "metadata": {},
   "outputs": [
    {
     "name": "stdout",
     "output_type": "stream",
     "text": [
      "              precision    recall  f1-score   support\n",
      "\n",
      "         0.0       0.84      0.89      0.86       996\n",
      "         1.0       0.88      0.83      0.85       983\n",
      "\n",
      "    accuracy                           0.86      1979\n",
      "   macro avg       0.86      0.86      0.86      1979\n",
      "weighted avg       0.86      0.86      0.86      1979\n",
      "\n"
     ]
    }
   ],
   "source": [
    "from sklearn.metrics import classification_report\n",
    "print(classification_report(y_test, y_pred))"
   ]
  },
  {
   "cell_type": "code",
   "execution_count": 36,
   "metadata": {},
   "outputs": [
    {
     "data": {
      "image/png": "[encoded data removed]",
      "text/plain": [
       "<Figure size 432x288 with 1 Axes>"
      ]
     },
     "metadata": {
      "needs_background": "light"
     },
     "output_type": "display_data"
    }
   ],
   "source": [
    "from sklearn.metrics import roc_auc_score\n",
    "from sklearn.metrics import roc_curve\n",
    "logit_roc_auc = roc_auc_score(y_test, logreg.predict(X_test))\n",
    "fpr, tpr, thresholds = roc_curve(y_test, logreg.predict_proba(X_test)[:,1])\n",
    "plt.figure()\n",
    "plt.plot(fpr, tpr, label='Logistic Regression (area = %0.2f)' % logit_roc_auc)\n",
    "plt.plot([0, 1], [0, 1],'r--')\n",
    "plt.xlim([0.0, 1.0])\n",
    "plt.ylim([0.0, 1.05])\n",
    "plt.xlabel('False Positive Rate')\n",
    "plt.ylabel('True Positive Rate')\n",
    "plt.title('Receiver operating characteristic')\n",
    "plt.legend(loc=\"lower right\")\n",
    "plt.savefig('Log_ROC')\n",
    "plt.show()"
   ]
  },
  {
   "cell_type": "code",
   "execution_count": 74,
   "metadata": {},
   "outputs": [
    {
     "name": "stdout",
     "output_type": "stream",
     "text": [
      "{'bootstrap': [True, False],\n",
      " 'max_depth': [10, 20, 30, 40, 50, 60, 70, 80, 90, 100, 110, None],\n",
      " 'max_features': ['auto', 'sqrt'],\n",
      " 'min_samples_leaf': [10, 20],\n",
      " 'min_samples_split': [10, 20],\n",
      " 'n_estimators': [5]}\n"
     ]
    }
   ],
   "source": [
    "#CROSS VALIDATED RANDOM FOREST\n",
    "from sklearn.ensemble import RandomForestClassifier\n",
    "from sklearn.metrics import accuracy_score\n",
    "from sklearn.model_selection import RandomizedSearchCV\n",
    "from pprint import pprint\n",
    "\n",
    "# Number of trees in random forest\n",
    "n_estimators = [int(x) for x in np.linspace(start = 5, stop = 10, num = 1)]\n",
    "# Number of features to consider at every split\n",
    "max_features = ['auto', 'sqrt']\n",
    "# Maximum number of levels in tree\n",
    "max_depth = [int(x) for x in np.linspace(10, 110, num = 11)]\n",
    "max_depth.append(None)\n",
    "# Minimum number of samples required to split a node\n",
    "min_samples_split = [10, 20]\n",
    "# Minimum number of samples required at each leaf node\n",
    "min_samples_leaf = [10, 20]\n",
    "# Method of selecting samples for training each tree\n",
    "bootstrap = [True, False]\n",
    "# Create the random grid\n",
    "random_grid = {'n_estimators': n_estimators,\n",
    "               'max_features': max_features,\n",
    "               'max_depth': max_depth,\n",
    "               'min_samples_split': min_samples_split,\n",
    "               'min_samples_leaf': min_samples_leaf,\n",
    "               'bootstrap': bootstrap}\n",
    "pprint(random_grid)\n",
    "\n",
    "\n"
   ]
  },
  {
   "cell_type": "code",
   "execution_count": 75,
   "metadata": {},
   "outputs": [
    {
     "name": "stdout",
     "output_type": "stream",
     "text": [
      "Fitting 5 folds for each of 100 candidates, totalling 500 fits\n"
     ]
    },
    {
     "name": "stderr",
     "output_type": "stream",
     "text": [
      "[Parallel(n_jobs=-1)]: Using backend LokyBackend with 4 concurrent workers.\n",
      "[Parallel(n_jobs=-1)]: Done  34 tasks      | elapsed:    2.4s\n",
      "[Parallel(n_jobs=-1)]: Done 500 out of 500 | elapsed:    8.0s finished\n"
     ]
    },
    {
     "data": {
      "text/plain": [
       "{'n_estimators': 5,\n",
       " 'min_samples_split': 10,\n",
       " 'min_samples_leaf': 10,\n",
       " 'max_features': 'auto',\n",
       " 'max_depth': 80,\n",
       " 'bootstrap': False}"
      ]
     },
     "execution_count": 75,
     "metadata": {},
     "output_type": "execute_result"
    }
   ],
   "source": [
    "rf = RandomForestClassifier()\n",
    "rf_random = RandomizedSearchCV(estimator = rf, param_distributions = random_grid, n_iter = 100, cv = 5, verbose=2, random_state=42, n_jobs = -1)\n",
    "rf_random.fit(X_train, y_train.values.ravel())\n",
    "rf_random.best_params_\n"
   ]
  },
  {
   "cell_type": "code",
   "execution_count": 72,
   "metadata": {
    "scrolled": true
   },
   "outputs": [
    {
     "name": "stdout",
     "output_type": "stream",
     "text": [
      "0.9489641232945932\n"
     ]
    }
   ],
   "source": [
    "rf_final = RandomForestClassifier(n_estimators = 166, min_samples_split = 10, min_samples_leaf = 10, max_features = 'sqrt', max_depth = 90, bootstrap = False, random_state = 42)\n",
    "\n",
    "final_model = rf_final.fit(X_train, y_train.values.ravel())\n",
    "final_predictions = rf_final.predict(X_test)\n",
    "final_accuracy = accuracy_score(y_test, final_predictions)\n",
    "print(final_accuracy)"
   ]
  },
  {
   "cell_type": "code",
   "execution_count": 46,
   "metadata": {},
   "outputs": [
    {
     "name": "stdout",
     "output_type": "stream",
     "text": [
      "['diabetic', 'non-diabetic']\n",
      "Index(['patientnum', 'BMI', 'fasting_glucose', 'gender', 'LDL',\n",
      "       '12drinksayear', '5drinksaday', '5drinks2hours', 'age', 'race', 'sugar',\n",
      "       'avrsysBP', 'avrdiaBP'],\n",
      "      dtype='object')\n"
     ]
    }
   ],
   "source": [
    "estimator = final_model.estimators_[5]\n",
    "class_name = []\n",
    "class_name.append('diabetic')\n",
    "class_name.append('non-diabetic')\n",
    "print(class_name)\n",
    "print(columns)\n",
    "from sklearn.tree import export_graphviz\n",
    "# Export as dot file\n",
    "export_graphviz(estimator, out_file='tree.dot', \n",
    "                rounded = True, proportion = False, \n",
    "                feature_names = columns,\n",
    "                class_names = class_name,\n",
    "                precision = 2, filled = True)\n"
   ]
  },
  {
   "cell_type": "code",
   "execution_count": 47,
   "metadata": {},
   "outputs": [
    {
     "ename": "FileNotFoundError",
     "evalue": "[Errno 2] \"dot\" not found in path.",
     "output_type": "error",
     "traceback": [
      "\u001b[0;31m---------------------------------------------------------------------------\u001b[0m",
      "\u001b[0;31mFileNotFoundError\u001b[0m                         Traceback (most recent call last)",
      "\u001b[0;32m/Library/Frameworks/Python.framework/Versions/3.7/lib/python3.7/site-packages/pydot.py\u001b[0m in \u001b[0;36mcreate\u001b[0;34m(self, prog, format, encoding)\u001b[0m\n\u001b[1;32m   1914\u001b[0m                 \u001b[0marguments\u001b[0m\u001b[0;34m=\u001b[0m\u001b[0marguments\u001b[0m\u001b[0;34m,\u001b[0m\u001b[0;34m\u001b[0m\u001b[0;34m\u001b[0m\u001b[0m\n\u001b[0;32m-> 1915\u001b[0;31m                 \u001b[0mworking_dir\u001b[0m\u001b[0;34m=\u001b[0m\u001b[0mtmp_dir\u001b[0m\u001b[0;34m,\u001b[0m\u001b[0;34m\u001b[0m\u001b[0;34m\u001b[0m\u001b[0m\n\u001b[0m\u001b[1;32m   1916\u001b[0m             )\n",
      "\u001b[0;32m/Library/Frameworks/Python.framework/Versions/3.7/lib/python3.7/site-packages/pydot.py\u001b[0m in \u001b[0;36mcall_graphviz\u001b[0;34m(program, arguments, working_dir, **kwargs)\u001b[0m\n\u001b[1;32m    135\u001b[0m         \u001b[0mstdout\u001b[0m\u001b[0;34m=\u001b[0m\u001b[0msubprocess\u001b[0m\u001b[0;34m.\u001b[0m\u001b[0mPIPE\u001b[0m\u001b[0;34m,\u001b[0m\u001b[0;34m\u001b[0m\u001b[0;34m\u001b[0m\u001b[0m\n\u001b[0;32m--> 136\u001b[0;31m         \u001b[0;34m**\u001b[0m\u001b[0mkwargs\u001b[0m\u001b[0;34m\u001b[0m\u001b[0;34m\u001b[0m\u001b[0m\n\u001b[0m\u001b[1;32m    137\u001b[0m     )\n",
      "\u001b[0;32m/Library/Frameworks/Python.framework/Versions/3.7/lib/python3.7/subprocess.py\u001b[0m in \u001b[0;36m__init__\u001b[0;34m(self, args, bufsize, executable, stdin, stdout, stderr, preexec_fn, close_fds, shell, cwd, env, universal_newlines, startupinfo, creationflags, restore_signals, start_new_session, pass_fds, encoding, errors, text)\u001b[0m\n\u001b[1;32m    774\u001b[0m                                 \u001b[0merrread\u001b[0m\u001b[0;34m,\u001b[0m \u001b[0merrwrite\u001b[0m\u001b[0;34m,\u001b[0m\u001b[0;34m\u001b[0m\u001b[0;34m\u001b[0m\u001b[0m\n\u001b[0;32m--> 775\u001b[0;31m                                 restore_signals, start_new_session)\n\u001b[0m\u001b[1;32m    776\u001b[0m         \u001b[0;32mexcept\u001b[0m\u001b[0;34m:\u001b[0m\u001b[0;34m\u001b[0m\u001b[0;34m\u001b[0m\u001b[0m\n",
      "\u001b[0;32m/Library/Frameworks/Python.framework/Versions/3.7/lib/python3.7/subprocess.py\u001b[0m in \u001b[0;36m_execute_child\u001b[0;34m(self, args, executable, preexec_fn, close_fds, pass_fds, cwd, env, startupinfo, creationflags, shell, p2cread, p2cwrite, c2pread, c2pwrite, errread, errwrite, restore_signals, start_new_session)\u001b[0m\n\u001b[1;32m   1521\u001b[0m                             \u001b[0merr_msg\u001b[0m \u001b[0;34m+=\u001b[0m \u001b[0;34m': '\u001b[0m \u001b[0;34m+\u001b[0m \u001b[0mrepr\u001b[0m\u001b[0;34m(\u001b[0m\u001b[0merr_filename\u001b[0m\u001b[0;34m)\u001b[0m\u001b[0;34m\u001b[0m\u001b[0;34m\u001b[0m\u001b[0m\n\u001b[0;32m-> 1522\u001b[0;31m                     \u001b[0;32mraise\u001b[0m \u001b[0mchild_exception_type\u001b[0m\u001b[0;34m(\u001b[0m\u001b[0merrno_num\u001b[0m\u001b[0;34m,\u001b[0m \u001b[0merr_msg\u001b[0m\u001b[0;34m,\u001b[0m \u001b[0merr_filename\u001b[0m\u001b[0;34m)\u001b[0m\u001b[0;34m\u001b[0m\u001b[0;34m\u001b[0m\u001b[0m\n\u001b[0m\u001b[1;32m   1523\u001b[0m                 \u001b[0;32mraise\u001b[0m \u001b[0mchild_exception_type\u001b[0m\u001b[0;34m(\u001b[0m\u001b[0merr_msg\u001b[0m\u001b[0;34m)\u001b[0m\u001b[0;34m\u001b[0m\u001b[0;34m\u001b[0m\u001b[0m\n",
      "\u001b[0;31mFileNotFoundError\u001b[0m: [Errno 2] No such file or directory: 'dot': 'dot'",
      "\nDuring handling of the above exception, another exception occurred:\n",
      "\u001b[0;31mFileNotFoundError\u001b[0m                         Traceback (most recent call last)",
      "\u001b[0;32m<ipython-input-47-29461b696c7e>\u001b[0m in \u001b[0;36m<module>\u001b[0;34m\u001b[0m\n\u001b[1;32m      1\u001b[0m \u001b[0;34m(\u001b[0m\u001b[0mgraph\u001b[0m\u001b[0;34m,\u001b[0m\u001b[0;34m)\u001b[0m \u001b[0;34m=\u001b[0m \u001b[0mpydot\u001b[0m\u001b[0;34m.\u001b[0m\u001b[0mgraph_from_dot_file\u001b[0m\u001b[0;34m(\u001b[0m\u001b[0;34m'tree.dot'\u001b[0m\u001b[0;34m)\u001b[0m\u001b[0;34m\u001b[0m\u001b[0;34m\u001b[0m\u001b[0m\n\u001b[0;32m----> 2\u001b[0;31m \u001b[0mgraph\u001b[0m\u001b[0;34m.\u001b[0m\u001b[0mwrite_png\u001b[0m\u001b[0;34m(\u001b[0m\u001b[0;34m'tree.png'\u001b[0m\u001b[0;34m)\u001b[0m\u001b[0;34m\u001b[0m\u001b[0;34m\u001b[0m\u001b[0m\n\u001b[0m",
      "\u001b[0;32m/Library/Frameworks/Python.framework/Versions/3.7/lib/python3.7/site-packages/pydot.py\u001b[0m in \u001b[0;36mnew_method\u001b[0;34m(path, f, prog, encoding)\u001b[0m\n\u001b[1;32m   1732\u001b[0m                 self.write(\n\u001b[1;32m   1733\u001b[0m                     \u001b[0mpath\u001b[0m\u001b[0;34m,\u001b[0m \u001b[0mformat\u001b[0m\u001b[0;34m=\u001b[0m\u001b[0mf\u001b[0m\u001b[0;34m,\u001b[0m \u001b[0mprog\u001b[0m\u001b[0;34m=\u001b[0m\u001b[0mprog\u001b[0m\u001b[0;34m,\u001b[0m\u001b[0;34m\u001b[0m\u001b[0;34m\u001b[0m\u001b[0m\n\u001b[0;32m-> 1734\u001b[0;31m                     encoding=encoding)\n\u001b[0m\u001b[1;32m   1735\u001b[0m             \u001b[0mname\u001b[0m \u001b[0;34m=\u001b[0m \u001b[0;34m'write_{fmt}'\u001b[0m\u001b[0;34m.\u001b[0m\u001b[0mformat\u001b[0m\u001b[0;34m(\u001b[0m\u001b[0mfmt\u001b[0m\u001b[0;34m=\u001b[0m\u001b[0mfrmt\u001b[0m\u001b[0;34m)\u001b[0m\u001b[0;34m\u001b[0m\u001b[0;34m\u001b[0m\u001b[0m\n\u001b[1;32m   1736\u001b[0m             \u001b[0mself\u001b[0m\u001b[0;34m.\u001b[0m\u001b[0m__setattr__\u001b[0m\u001b[0;34m(\u001b[0m\u001b[0mname\u001b[0m\u001b[0;34m,\u001b[0m \u001b[0mnew_method\u001b[0m\u001b[0;34m)\u001b[0m\u001b[0;34m\u001b[0m\u001b[0;34m\u001b[0m\u001b[0m\n",
      "\u001b[0;32m/Library/Frameworks/Python.framework/Versions/3.7/lib/python3.7/site-packages/pydot.py\u001b[0m in \u001b[0;36mwrite\u001b[0;34m(self, path, prog, format, encoding)\u001b[0m\n\u001b[1;32m   1815\u001b[0m                 \u001b[0mf\u001b[0m\u001b[0;34m.\u001b[0m\u001b[0mwrite\u001b[0m\u001b[0;34m(\u001b[0m\u001b[0ms\u001b[0m\u001b[0;34m)\u001b[0m\u001b[0;34m\u001b[0m\u001b[0;34m\u001b[0m\u001b[0m\n\u001b[1;32m   1816\u001b[0m         \u001b[0;32melse\u001b[0m\u001b[0;34m:\u001b[0m\u001b[0;34m\u001b[0m\u001b[0;34m\u001b[0m\u001b[0m\n\u001b[0;32m-> 1817\u001b[0;31m             \u001b[0ms\u001b[0m \u001b[0;34m=\u001b[0m \u001b[0mself\u001b[0m\u001b[0;34m.\u001b[0m\u001b[0mcreate\u001b[0m\u001b[0;34m(\u001b[0m\u001b[0mprog\u001b[0m\u001b[0;34m,\u001b[0m \u001b[0mformat\u001b[0m\u001b[0;34m,\u001b[0m \u001b[0mencoding\u001b[0m\u001b[0;34m=\u001b[0m\u001b[0mencoding\u001b[0m\u001b[0;34m)\u001b[0m\u001b[0;34m\u001b[0m\u001b[0;34m\u001b[0m\u001b[0m\n\u001b[0m\u001b[1;32m   1818\u001b[0m             \u001b[0;32mwith\u001b[0m \u001b[0mio\u001b[0m\u001b[0;34m.\u001b[0m\u001b[0mopen\u001b[0m\u001b[0;34m(\u001b[0m\u001b[0mpath\u001b[0m\u001b[0;34m,\u001b[0m \u001b[0mmode\u001b[0m\u001b[0;34m=\u001b[0m\u001b[0;34m'wb'\u001b[0m\u001b[0;34m)\u001b[0m \u001b[0;32mas\u001b[0m \u001b[0mf\u001b[0m\u001b[0;34m:\u001b[0m\u001b[0;34m\u001b[0m\u001b[0;34m\u001b[0m\u001b[0m\n\u001b[1;32m   1819\u001b[0m                 \u001b[0mf\u001b[0m\u001b[0;34m.\u001b[0m\u001b[0mwrite\u001b[0m\u001b[0;34m(\u001b[0m\u001b[0ms\u001b[0m\u001b[0;34m)\u001b[0m\u001b[0;34m\u001b[0m\u001b[0;34m\u001b[0m\u001b[0m\n",
      "\u001b[0;32m/Library/Frameworks/Python.framework/Versions/3.7/lib/python3.7/site-packages/pydot.py\u001b[0m in \u001b[0;36mcreate\u001b[0;34m(self, prog, format, encoding)\u001b[0m\n\u001b[1;32m   1920\u001b[0m                 args[1] = '\"{prog}\" not found in path.'.format(\n\u001b[1;32m   1921\u001b[0m                     prog=prog)\n\u001b[0;32m-> 1922\u001b[0;31m                 \u001b[0;32mraise\u001b[0m \u001b[0mOSError\u001b[0m\u001b[0;34m(\u001b[0m\u001b[0;34m*\u001b[0m\u001b[0margs\u001b[0m\u001b[0;34m)\u001b[0m\u001b[0;34m\u001b[0m\u001b[0;34m\u001b[0m\u001b[0m\n\u001b[0m\u001b[1;32m   1923\u001b[0m             \u001b[0;32melse\u001b[0m\u001b[0;34m:\u001b[0m\u001b[0;34m\u001b[0m\u001b[0;34m\u001b[0m\u001b[0m\n\u001b[1;32m   1924\u001b[0m                 \u001b[0;32mraise\u001b[0m\u001b[0;34m\u001b[0m\u001b[0;34m\u001b[0m\u001b[0m\n",
      "\u001b[0;31mFileNotFoundError\u001b[0m: [Errno 2] \"dot\" not found in path."
     ]
    }
   ],
   "source": [
    "(graph,) = pydot.graph_from_dot_file('tree.dot')\n",
    "graph.write_png('tree.png')\n"
   ]
  },
  {
   "cell_type": "code",
   "execution_count": null,
   "metadata": {},
   "outputs": [],
   "source": []
  }
 ],
 "metadata": {
  "kernelspec": {
   "display_name": "Python 3",
   "language": "python",
   "name": "python3"
  },
  "language_info": {
   "codemirror_mode": {
    "name": "ipython",
    "version": 3
   },
   "file_extension": ".py",
   "mimetype": "text/x-python",
   "name": "python",
   "nbconvert_exporter": "python",
   "pygments_lexer": "ipython3",
   "version": "3.7.3"
  }
 },
 "nbformat": 4,
 "nbformat_minor": 2
}
